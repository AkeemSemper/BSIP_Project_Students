{
 "cells": [
  {
   "cell_type": "code",
   "execution_count": null,
   "metadata": {},
   "outputs": [],
   "source": [
    "# Import things\n",
    "import pandas as pd"
   ]
  },
  {
   "cell_type": "markdown",
   "metadata": {},
   "source": [
    "# Project Template\n",
    "\n",
    "This document serves as a barebones template that you can start from when creating a new project. Please adjust it as you see fit to suit your project's needs."
   ]
  },
  {
   "cell_type": "markdown",
   "metadata": {},
   "source": [
    "## Problem Statement and Your Outline"
   ]
  },
  {
   "cell_type": "markdown",
   "metadata": {},
   "source": [
    "### Load, Explore, and Clean Data\n",
    "\n",
    "Load your dataset, explore it, perform data cleaning, and then examine the ready-to-use data you're prepared. "
   ]
  },
  {
   "cell_type": "code",
   "execution_count": null,
   "metadata": {},
   "outputs": [],
   "source": [
    "# Load Data"
   ]
  },
  {
   "cell_type": "markdown",
   "metadata": {},
   "source": [
    "### Prepare Data for Modeling\n",
    "\n",
    "If there is a need to do further processing, such as feature engineering, you can do it here."
   ]
  },
  {
   "cell_type": "code",
   "execution_count": null,
   "metadata": {},
   "outputs": [],
   "source": [
    "# Prepare Data"
   ]
  },
  {
   "cell_type": "markdown",
   "metadata": {},
   "source": [
    "### Create Model(s)"
   ]
  },
  {
   "cell_type": "code",
   "execution_count": null,
   "metadata": {},
   "outputs": [],
   "source": [
    "# Modelling"
   ]
  },
  {
   "cell_type": "markdown",
   "metadata": {},
   "source": [
    "### Evaluate Results"
   ]
  },
  {
   "cell_type": "code",
   "execution_count": null,
   "metadata": {},
   "outputs": [],
   "source": [
    "# results"
   ]
  },
  {
   "cell_type": "markdown",
   "metadata": {},
   "source": [
    "## Summary and Conclusion"
   ]
  },
  {
   "cell_type": "code",
   "execution_count": null,
   "metadata": {},
   "outputs": [],
   "source": [
    "# Finish it"
   ]
  },
  {
   "cell_type": "markdown",
   "metadata": {},
   "source": [
    "## Completion Check\n",
    "\n",
    "Before you submit your project, check the following to make sure it is complete and easy to understand:\n",
    "<ul>\n",
    "<li> Are the sections labeled and organized in a logical way? </li>\n",
    "<li> Are there descriptions that give an outline of what is being done in each section in plain language? </li>\n",
    "<li> Do you explain your thought process and logic behind any decisions you make? </li>\n",
    "<li> What do your finding mean, and what evidence from your project supports that? </li>\n",
    "<li> Do things run, end-to-end, without errors? </li>\n",
    "<li> Is the code commented, easy to read, and easy to follow? </li>\n",
    "</ul>\n",
    "\n",
    "In short, I should be able to read through this, end-to-end, and understand what you did, why you did it, and what you found.\n"
   ]
  }
 ],
 "metadata": {
  "language_info": {
   "name": "python"
  }
 },
 "nbformat": 4,
 "nbformat_minor": 2
}
